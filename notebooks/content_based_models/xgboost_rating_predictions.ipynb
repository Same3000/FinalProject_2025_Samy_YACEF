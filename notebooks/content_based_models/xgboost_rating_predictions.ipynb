{
 "cells": [
  {
   "cell_type": "code",
   "execution_count": 2,
   "metadata": {
    "_cell_guid": "b1076dfc-b9ad-4769-8c92-a6c4dae69d19",
    "_uuid": "8f2839f25d086af736a60e9eeb907d3b93b6e0e5",
    "execution": {
     "iopub.execute_input": "2025-05-13T13:57:31.723735Z",
     "iopub.status.busy": "2025-05-13T13:57:31.723001Z",
     "iopub.status.idle": "2025-05-13T13:57:33.183682Z",
     "shell.execute_reply": "2025-05-13T13:57:33.182972Z",
     "shell.execute_reply.started": "2025-05-13T13:57:31.723709Z"
    },
    "trusted": true
   },
   "outputs": [],
   "source": [
    "import pandas as pd\n",
    "import numpy as np\n",
    "import xgboost as xgb\n",
    "from sklearn.metrics import mean_squared_error\n",
    "import matplotlib.pyplot as plt\n",
    "import os\n",
    "from tqdm.notebook import tqdm"
   ]
  },
  {
   "cell_type": "code",
   "execution_count": 3,
   "metadata": {
    "execution": {
     "iopub.execute_input": "2025-05-13T13:57:33.185709Z",
     "iopub.status.busy": "2025-05-13T13:57:33.184933Z",
     "iopub.status.idle": "2025-05-13T13:58:09.131480Z",
     "shell.execute_reply": "2025-05-13T13:58:09.130785Z",
     "shell.execute_reply.started": "2025-05-13T13:57:33.185686Z"
    },
    "trusted": true
   },
   "outputs": [
    {
     "name": "stdout",
     "output_type": "stream",
     "text": [
      "Interactions shape: (12530806, 8)\n",
      "Interactions small shape: (4676570, 8)\n",
      "Item features shape: (10728, 2)\n"
     ]
    }
   ],
   "source": [
    "# Define paths to data files\n",
    "base_path = \"/kaggle/input/kuairec-content-based\"\n",
    "interactions_big_path = os.path.join(base_path, \"big_matrix.csv\")\n",
    "interactions_small_path = os.path.join(base_path, \"small_matrix.csv\")\n",
    "item_features_path = os.path.join(base_path, \"item_categories.csv\")\n",
    "\n",
    "interactions_big_df = pd.read_csv(interactions_big_path)\n",
    "interactions_small_df = pd.read_csv(interactions_small_path)\n",
    "item_features_df = pd.read_csv(item_features_path)\n",
    "\n",
    "print(f\"Interactions shape: {interactions_big_df.shape}\")\n",
    "print(f\"Interactions small shape: {interactions_small_df.shape}\")\n",
    "print(f\"Item features shape: {item_features_df.shape}\")"
   ]
  },
  {
   "cell_type": "code",
   "execution_count": null,
   "metadata": {
    "execution": {
     "iopub.execute_input": "2025-05-13T13:58:09.132491Z",
     "iopub.status.busy": "2025-05-13T13:58:09.132225Z",
     "iopub.status.idle": "2025-05-13T13:58:09.950682Z",
     "shell.execute_reply": "2025-05-13T13:58:09.950037Z",
     "shell.execute_reply.started": "2025-05-13T13:58:09.132472Z"
    },
    "trusted": true
   },
   "outputs": [],
   "source": [
    "interactions_big_df.drop(columns=[\"date\", 'time'], inplace=True)\n",
    "interactions_big_df.rename(columns={'user_id': 'userId', 'video_id': 'itemId'}, inplace=True)\n",
    "interactions_small_df.drop(columns=[\"date\", 'time'], inplace=True)\n",
    "interactions_small_df.rename(columns={'user_id': 'userId', 'video_id': 'itemId'}, inplace=True)\n",
    "\n",
    "item_features_df[\"feat\"] = item_features_df[\"feat\"].map(eval)\n",
    "all_categories = [i for i in range(31)]\n",
    "\n",
    "items_preproccesed = pd.DataFrame(index=item_features_df.index)\n",
    "\n",
    "for category in sorted(all_categories):\n",
    "    column_name = category\n",
    "    items_preproccesed[column_name] = item_features_df['feat'].apply(lambda x: 1 if category in x else 0)\n",
    "items_preproccesed['video_id'] = item_features_df[\"video_id\"]\n",
    "items_preproccesed.drop(columns=[14, 23, 27, 21, 0, 30, 22, 24, 29], inplace=True)\n",
    "items_preproccesed.rename(columns={'video_id':'itemId'}, inplace=True)\n",
    "\n",
    "items_preproccesed.set_index('itemId', inplace=True)"
   ]
  },
  {
   "cell_type": "code",
   "execution_count": 6,
   "metadata": {
    "execution": {
     "iopub.execute_input": "2025-05-13T13:58:09.958470Z",
     "iopub.status.busy": "2025-05-13T13:58:09.958121Z",
     "iopub.status.idle": "2025-05-13T13:58:18.316878Z",
     "shell.execute_reply": "2025-05-13T13:58:18.316136Z",
     "shell.execute_reply.started": "2025-05-13T13:58:09.958441Z"
    },
    "trusted": true
   },
   "outputs": [],
   "source": [
    "train_data = pd.merge(interactions_big_df, items_preproccesed, on='itemId', how='left')\n",
    "test_data = pd.merge(interactions_small_df, items_preproccesed, on='itemId', how='left')"
   ]
  },
  {
   "cell_type": "code",
   "execution_count": 7,
   "metadata": {
    "execution": {
     "iopub.execute_input": "2025-05-13T13:58:18.317839Z",
     "iopub.status.busy": "2025-05-13T13:58:18.317605Z",
     "iopub.status.idle": "2025-05-13T13:58:18.410181Z",
     "shell.execute_reply": "2025-05-13T13:58:18.409476Z",
     "shell.execute_reply.started": "2025-05-13T13:58:18.317822Z"
    },
    "trusted": true
   },
   "outputs": [],
   "source": [
    "train_data[train_data['watch_ratio'] > 5] = 5\n",
    "test_data[test_data['watch_ratio'] > 5] = 5"
   ]
  },
  {
   "cell_type": "code",
   "execution_count": null,
   "metadata": {
    "execution": {
     "iopub.execute_input": "2025-05-13T13:58:18.411301Z",
     "iopub.status.busy": "2025-05-13T13:58:18.411058Z",
     "iopub.status.idle": "2025-05-13T13:58:18.433090Z",
     "shell.execute_reply": "2025-05-13T13:58:18.432273Z",
     "shell.execute_reply.started": "2025-05-13T13:58:18.411281Z"
    },
    "trusted": true
   },
   "outputs": [],
   "source": [
    "class ContentBasedRecommender:\n",
    "    def __init__(self, item_features_df, params=None):\n",
    "        self.item_features_df = item_features_df\n",
    "        self.model = None\n",
    "        self.user_profiles = {}\n",
    "        \n",
    "        self.params = {\n",
    "            'objective': 'reg:squarederror',\n",
    "            'eval_metric': 'rmse',\n",
    "            'eta': 0.05,\n",
    "            'max_depth': 10,\n",
    "            'subsample': 0.8,\n",
    "            'colsample_bytree': 0.8,\n",
    "            'min_child_weight': 1,\n",
    "            'gamma': 0.1\n",
    "        }\n",
    "        \n",
    "        if params:\n",
    "            self.params.update(params)\n",
    "            \n",
    "    def fit(self, train_data, feature_cols=None):\n",
    "        \"\"\"Train an XGBoost model for content-based recommendations.\"\"\"\n",
    "        \n",
    "        if feature_cols is None:\n",
    "            feature_cols = train_data.select_dtypes(include=['int64', 'float64', 'bool']).columns.tolist()\n",
    "            feature_cols = [col for col in feature_cols if col not in ['userId', 'itemId', 'watch_ratio']]\n",
    "        \n",
    "        print(f\"Using features: {feature_cols}\")\n",
    "        \n",
    "        print(\"Training XGBoost model...\")\n",
    "        X = train_data[feature_cols].values\n",
    "        y = train_data['watch_ratio'].values\n",
    "        \n",
    "        X_train, X_val = X[:int(0.8*len(X))], X[int(0.8*len(X)):]\n",
    "        y_train, y_val = y[:int(0.8*len(y))], y[int(0.8*len(y)):]\n",
    "        \n",
    "        dtrain_final = xgb.DMatrix(X_train, label=y_train)\n",
    "        dval = xgb.DMatrix(X_val, label=y_val)\n",
    "        \n",
    "        self.model = xgb.train(\n",
    "            self.params, \n",
    "            dtrain_final, \n",
    "            num_boost_round=500,\n",
    "            evals=[(dtrain_final, 'train'),(dval, 'validation')],\n",
    "            early_stopping_rounds=50,\n",
    "            verbose_eval=20\n",
    "        )\n",
    "        \n",
    "        print(\"Creating user profiles...\")\n",
    "        for user_id, group in train_data.groupby('userId'):\n",
    "            self.user_profiles[user_id] = group[feature_cols].mean().values\n",
    "            \n",
    "        return self\n",
    "\n",
    "    def evaluate(self, test_data, feature_cols=None, k=10, relevance_threshold=0.8):\n",
    "        if feature_cols is None:\n",
    "            feature_cols = test_data.columns.tolist()\n",
    "            feature_cols = [col for col in feature_cols if col not in ['userId', 'itemId', 'watch_ratio']]\n",
    "        \n",
    "        print(\"Generating predictions for evaluation...\")\n",
    "        X_test = test_data[feature_cols].values\n",
    "        y_true = test_data['watch_ratio'].values\n",
    "        \n",
    "        dtest = xgb.DMatrix(X_test)\n",
    "        \n",
    "        test_data['prediction'] = self.model.predict(dtest)\n",
    "        \n",
    "        rmse = np.sqrt(mean_squared_error(y_true, test_data['prediction']))\n",
    "        mae = np.mean(np.abs(y_true - test_data['prediction']))\n",
    "        \n",
    "        print(f\"\\nCalculating ranking metrics at k={k}...\")\n",
    "        \n",
    "        precision = self._calculate_precision(test_data, k=k)\n",
    "        \n",
    "        hit_rate = self._calculate_hit_rate(test_data, k=k, relevance_threshold=relevance_threshold)\n",
    "        \n",
    "        mrr = self._calculate_mrr(test_data, k=k, relevance_threshold=relevance_threshold)\n",
    "        \n",
    "        plt.figure(figsize=(10, 6))\n",
    "        plt.scatter(y_true, test_data['prediction'], alpha=0.3)\n",
    "        plt.xlabel('Actual Watch Ratio')\n",
    "        plt.ylabel('Predicted Watch Ratio')\n",
    "        plt.title('Actual vs Predicted Watch Ratio')\n",
    "        plt.grid(True, linestyle='--', alpha=0.7)\n",
    "        plt.tight_layout()\n",
    "        plt.show()\n",
    "        \n",
    "        print(f\"RMSE: {rmse:.4f}\")\n",
    "        print(f\"MAE: {mae:.4f}\")\n",
    "        print(f\"Precision@{k}: {precision:.4f}\")\n",
    "        print(f\"Hit Rate@{k}: {hit_rate:.4f}\")\n",
    "        print(f\"MRR@{k}: {mrr:.4f}\")\n",
    "        \n",
    "        return {\n",
    "            \"rmse\": rmse,\n",
    "            \"mae\": mae,\n",
    "            \"precision\": precision,\n",
    "            \"hit_rate\": hit_rate,\n",
    "            \"mrr\": mrr\n",
    "        }\n",
    "\n",
    "    def _calculate_precision(self, test_data, k=10):\n",
    "        \"\"\"Calculate Precision@k.\"\"\"\n",
    "        top_k_preds = (\n",
    "            test_data.groupby('userId')\n",
    "            .apply(lambda x: x.nlargest(k, 'prediction'))\n",
    "            .reset_index(drop=True)\n",
    "        )\n",
    "        \n",
    "        top_k_actual = (\n",
    "            test_data.groupby('userId')\n",
    "            .apply(lambda x: x.nlargest(k, 'watch_ratio'))\n",
    "            .reset_index(drop=True)\n",
    "        )\n",
    "        \n",
    "        joined_items = pd.merge(\n",
    "            top_k_preds[['userId', 'itemId']],\n",
    "            top_k_actual[['userId', 'itemId']],\n",
    "            on=['userId', 'itemId'],\n",
    "            how='inner'\n",
    "        )\n",
    "        \n",
    "        precision = len(joined_items) / len(top_k_preds) if len(top_k_preds) > 0 else 0\n",
    "        return precision\n",
    "\n",
    "    def _calculate_hit_rate(self, test_data, k=10, relevance_threshold=0.8):\n",
    "        \"\"\"Calculate Hit Rate@k.\"\"\"\n",
    "        top_k_preds = (\n",
    "            test_data.groupby('userId')\n",
    "            .apply(lambda x: x.nlargest(k, 'prediction'))\n",
    "            .reset_index(drop=True)[['userId', 'itemId']]\n",
    "        )\n",
    "        \n",
    "        relevant_items = test_data[test_data['watch_ratio'] >= relevance_threshold][['userId', 'itemId']]\n",
    "        \n",
    "        users_with_relevant_items = relevant_items['userId'].unique()\n",
    "        num_users_with_relevant_items = len(users_with_relevant_items)\n",
    "        \n",
    "        if num_users_with_relevant_items == 0:\n",
    "            return 0.0\n",
    "        \n",
    "        hits = pd.merge(\n",
    "            top_k_preds,\n",
    "            relevant_items,\n",
    "            on=['userId', 'itemId'],\n",
    "            how='inner'\n",
    "        )\n",
    "        \n",
    "        users_with_hits = hits['userId'].unique()\n",
    "        users_with_hits_count = len(users_with_hits)\n",
    "        \n",
    "        hit_rate = users_with_hits_count / num_users_with_relevant_items\n",
    "        return hit_rate\n",
    "\n",
    "    def _calculate_mrr(self, test_data, k=10, relevance_threshold=0.8):\n",
    "        \"\"\"Calculate MRR@k.\"\"\"\n",
    "        ranked_preds = []\n",
    "        for user_id, group in test_data.groupby('userId'):\n",
    "            sorted_group = group.sort_values('prediction', ascending=False).head(k)\n",
    "            sorted_group['rank'] = range(1, len(sorted_group) + 1)\n",
    "            ranked_preds.append(sorted_group)\n",
    "        \n",
    "        if len(ranked_preds) == 0:\n",
    "            return 0.0\n",
    "        \n",
    "        ranked_preds_df = pd.concat(ranked_preds, ignore_index=True)\n",
    "        \n",
    "        relevant_items = test_data[test_data['watch_ratio'] >= relevance_threshold][['userId', 'itemId']]\n",
    "        \n",
    "        users_with_relevant_items = relevant_items['userId'].unique()\n",
    "        num_users_with_relevant_items = len(users_with_relevant_items)\n",
    "        \n",
    "        if num_users_with_relevant_items == 0:\n",
    "            return 0.0\n",
    "        \n",
    "        hits_with_rank = pd.merge(\n",
    "            ranked_preds_df[['userId', 'itemId', 'rank']],\n",
    "            relevant_items,\n",
    "            on=['userId', 'itemId'],\n",
    "            how='inner'\n",
    "        )\n",
    "        \n",
    "        if len(hits_with_rank) > 0:\n",
    "            first_hit_per_user = hits_with_rank.groupby('userId')['rank'].min().reset_index()\n",
    "            first_hit_per_user['reciprocal_rank'] = 1 / first_hit_per_user['rank']\n",
    "            total_rr = first_hit_per_user['reciprocal_rank'].sum()\n",
    "        else:\n",
    "            total_rr = 0\n",
    "        \n",
    "        mrr = total_rr / num_users_with_relevant_items\n",
    "        return mrr"
   ]
  },
  {
   "cell_type": "code",
   "execution_count": null,
   "metadata": {
    "execution": {
     "iopub.execute_input": "2025-05-13T13:58:18.434205Z",
     "iopub.status.busy": "2025-05-13T13:58:18.433914Z",
     "iopub.status.idle": "2025-05-13T13:58:19.307324Z",
     "shell.execute_reply": "2025-05-13T13:58:19.306676Z",
     "shell.execute_reply.started": "2025-05-13T13:58:18.434180Z"
    },
    "trusted": true
   },
   "outputs": [],
   "source": [
    "train_data.drop(columns=['timestamp'], inplace=True)"
   ]
  },
  {
   "cell_type": "code",
   "execution_count": null,
   "metadata": {
    "execution": {
     "iopub.execute_input": "2025-05-13T13:58:19.308501Z",
     "iopub.status.busy": "2025-05-13T13:58:19.308175Z",
     "iopub.status.idle": "2025-05-13T14:07:45.494978Z",
     "shell.execute_reply": "2025-05-13T14:07:45.494183Z",
     "shell.execute_reply.started": "2025-05-13T13:58:19.308479Z"
    },
    "trusted": true
   },
   "outputs": [
    {
     "name": "stdout",
     "output_type": "stream",
     "text": [
      "Using features: [1, 2, 3, 4, 5, 6, 7, 8, 9, 10, 11, 12, 13, 15, 16, 17, 18, 19, 20, 25, 26, 28]\n",
      "Training XGBoost model...\n",
      "[0]\ttrain-rmse:0.80645\tvalidation-rmse:0.80972\n",
      "[20]\ttrain-rmse:0.71699\tvalidation-rmse:0.71806\n",
      "[40]\ttrain-rmse:0.70308\tvalidation-rmse:0.70382\n",
      "[60]\ttrain-rmse:0.70085\tvalidation-rmse:0.70155\n",
      "[80]\ttrain-rmse:0.70043\tvalidation-rmse:0.70113\n",
      "[100]\ttrain-rmse:0.70018\tvalidation-rmse:0.70089\n",
      "[120]\ttrain-rmse:0.70000\tvalidation-rmse:0.70071\n",
      "[140]\ttrain-rmse:0.69992\tvalidation-rmse:0.70064\n",
      "[160]\ttrain-rmse:0.69988\tvalidation-rmse:0.70060\n",
      "[180]\ttrain-rmse:0.69985\tvalidation-rmse:0.70058\n",
      "[200]\ttrain-rmse:0.69982\tvalidation-rmse:0.70055\n",
      "[220]\ttrain-rmse:0.69980\tvalidation-rmse:0.70054\n",
      "[240]\ttrain-rmse:0.69979\tvalidation-rmse:0.70052\n",
      "[260]\ttrain-rmse:0.69977\tvalidation-rmse:0.70051\n",
      "[280]\ttrain-rmse:0.69976\tvalidation-rmse:0.70050\n",
      "[300]\ttrain-rmse:0.69975\tvalidation-rmse:0.70049\n",
      "[320]\ttrain-rmse:0.69974\tvalidation-rmse:0.70048\n",
      "[340]\ttrain-rmse:0.69973\tvalidation-rmse:0.70047\n",
      "[360]\ttrain-rmse:0.69972\tvalidation-rmse:0.70046\n",
      "[380]\ttrain-rmse:0.69971\tvalidation-rmse:0.70045\n",
      "[400]\ttrain-rmse:0.69970\tvalidation-rmse:0.70045\n",
      "[420]\ttrain-rmse:0.69970\tvalidation-rmse:0.70044\n",
      "[440]\ttrain-rmse:0.69969\tvalidation-rmse:0.70043\n",
      "[460]\ttrain-rmse:0.69968\tvalidation-rmse:0.70042\n",
      "[480]\ttrain-rmse:0.69967\tvalidation-rmse:0.70042\n",
      "[499]\ttrain-rmse:0.69966\tvalidation-rmse:0.70041\n",
      "Creating user profiles...\n"
     ]
    },
    {
     "data": {
      "text/plain": [
       "<__main__.ContentBasedRecommender at 0x79f85cedf990>"
      ]
     },
     "execution_count": 10,
     "metadata": {},
     "output_type": "execute_result"
    }
   ],
   "source": [
    "recommender = ContentBasedRecommender(item_features_df)\n",
    "recommender.fit(train_data, feature_cols=items_preproccesed.columns.tolist())"
   ]
  },
  {
   "cell_type": "code",
   "execution_count": null,
   "metadata": {
    "execution": {
     "iopub.execute_input": "2025-05-13T14:07:45.497357Z",
     "iopub.status.busy": "2025-05-13T14:07:45.497120Z"
    },
    "trusted": true
   },
   "outputs": [
    {
     "name": "stdout",
     "output_type": "stream",
     "text": [
      "Generating predictions for evaluation...\n"
     ]
    }
   ],
   "source": [
    "metrics = recommender.evaluate(\n",
    "    test_data, \n",
    "    feature_cols=items_preproccesed.columns.tolist(),\n",
    "    k=20,                   \n",
    "    relevance_threshold=0.8 \n",
    ")"
   ]
  },
  {
   "cell_type": "code",
   "execution_count": null,
   "metadata": {
    "trusted": true
   },
   "outputs": [],
   "source": [
    "plt.figure(figsize=(12, 6))\n",
    "xgb.plot_importance(recommender.model, max_num_features=15)\n",
    "plt.title('Feature Importance')\n",
    "plt.show()"
   ]
  },
  {
   "cell_type": "code",
   "execution_count": null,
   "metadata": {
    "trusted": true
   },
   "outputs": [],
   "source": [
    "dtest = xgb.DMatrix(test_data[items_preproccesed.columns].values)\n",
    "test_data['predictions'] = recommender.model.predict(dtest)\n",
    "\n",
    "for feature in items_preproccesed.columns[:5]:\n",
    "    plt.figure(figsize=(8, 4))\n",
    "    plt.scatter(test_data[feature], test_data['predictions'], alpha=0.3)\n",
    "    plt.title(f'Predictions vs {feature}')\n",
    "    plt.xlabel(feature)\n",
    "    plt.ylabel('Predicted Watch Ratio')\n",
    "    plt.show()"
   ]
  },
  {
   "cell_type": "code",
   "execution_count": null,
   "metadata": {
    "trusted": true
   },
   "outputs": [],
   "source": [
    "print(test_data['prediction'].describe())\n",
    "print(test_data['watch_ratio'].std())"
   ]
  }
 ],
 "metadata": {
  "kaggle": {
   "accelerator": "none",
   "dataSources": [
    {
     "datasetId": 7401694,
     "sourceId": 11788201,
     "sourceType": "datasetVersion"
    }
   ],
   "dockerImageVersionId": 31041,
   "isGpuEnabled": false,
   "isInternetEnabled": true,
   "language": "python",
   "sourceType": "notebook"
  },
  "kernelspec": {
   "display_name": "Python 3",
   "language": "python",
   "name": "python3"
  },
  "language_info": {
   "codemirror_mode": {
    "name": "ipython",
    "version": 3
   },
   "file_extension": ".py",
   "mimetype": "text/x-python",
   "name": "python",
   "nbconvert_exporter": "python",
   "pygments_lexer": "ipython3",
   "version": "3.11.11"
  }
 },
 "nbformat": 4,
 "nbformat_minor": 4
}
